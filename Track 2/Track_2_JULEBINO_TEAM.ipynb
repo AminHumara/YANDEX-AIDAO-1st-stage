{
  "cells": [
    {
      "cell_type": "markdown",
      "id": "10f8abc5",
      "metadata": {
        "id": "10f8abc5"
      },
      "source": [
        "# Task 2 JULEBINO TEAM\n",
        "Participants:\n",
        "- Соколанов Алексей\n",
        "- Ешеров Амин\n",
        "- Белянинов Илья"
      ]
    },
    {
      "metadata": {
        "id": "38ec948d00390da6"
      },
      "cell_type": "markdown",
      "source": [
        "## Описание:\n",
        "Данное решение использует матрицу отношение (корреляцию) между исходными данными в качестве признаков, на которых обучаются модели. Но перед преобразование исходных данных, мы применяем oversampling, который дублирует случайные наблюдения минорного класса из датасета bnu (и только его!). Из 20 предоставленных наблюдений датасета ihb 10, отходит на тест, и 10 на обучение. \\\n",
        "С помощью CatBoost feature importance мы отбираем топ 40 лучших фичей и работаем с ними. GreedSearch помогает нам подобрать гиперпараметры \\\n",
        "### Дополнительное решение:\n",
        "Catboost выдает лучший результат, но так же неплохо себя показал ансамбль из трех моделей: *Кэтбуста*, который хорошо определяет отрицательные классы,*Логистической регрессии*, которая хорошо определяет положительный класс, и *Перцептрона*, который делает ошибки вообще в других местах\n",
        "\n",
        "### Достоинтсва решения:\n",
        "- Высокая скорость обучения\n",
        "- Малый вес модели\n",
        "- Возможность доработать до лучшего результата дополнительное решение при наличии большего количества данных"
      ],
      "id": "38ec948d00390da6"
    },
    {
      "cell_type": "code",
      "id": "initial_id",
      "metadata": {
        "collapsed": true,
        "ExecuteTime": {
          "end_time": "2024-10-12T22:25:01.195181Z",
          "start_time": "2024-10-12T22:25:00.741962Z"
        },
        "id": "initial_id"
      },
      "source": [
        "import numpy as np\n",
        "import pandas as pd\n",
        "import matplotlib.pyplot as plt\n",
        "import seaborn as sns\n",
        "from sklearn.model_selection import train_test_split\n",
        "from scripts.data_utils import get_connectome\n",
        "from scripts.classification_models import CLModels\n"
      ],
      "outputs": [],
      "execution_count": null
    },
    {
      "cell_type": "code",
      "id": "0f8659c9",
      "metadata": {
        "ExecuteTime": {
          "end_time": "2024-10-12T22:25:01.396058Z",
          "start_time": "2024-10-12T22:25:01.199879Z"
        },
        "id": "0f8659c9",
        "outputId": "966602de-3914-45e1-b556-a23301151684"
      },
      "source": [
        "hcp_table = pd.read_excel('./data/atlas/HCPex_Atlas_Description.xlsx',\n",
        "                          index_col='HCPex_ID').sort_index()\n",
        "hcp_table"
      ],
      "outputs": [
        {
          "data": {
            "text/plain": [
              "          NEW_ID                               Label Short_label  \\\n",
              "HCPex_ID                                                           \n",
              "1              1             Primary_Visual_Cortex_L        L_V1   \n",
              "2              3                Second_Visual_Area_L        L_V2   \n",
              "3              5                 Third_Visual_Area_L        L_V3   \n",
              "4              7                Fourth_Visual_Area_L        L_V4   \n",
              "5              9       IntraParietal_Sulcus_Area_1_L      L_IPS1   \n",
              "...          ...                                 ...         ...   \n",
              "422          418  Substantia_nigra_pars_reticulata_R      R_SNpr   \n",
              "423          420             Ventral_tegmenta_area_R       R_VTA   \n",
              "424          422                 Mammillary_bodies_R        R_MB   \n",
              "425          424                    Septal_nucleus_R    R_Septum   \n",
              "426          426                      Nuclei_basal_R        R_Nb   \n",
              "\n",
              "             Cortical Division  Cortical_Division_Number       X       Y  \\\n",
              "HCPex_ID                                                                   \n",
              "1               Primary_Visual                         1 -10.078 -84.159   \n",
              "2                 Early_Visual                         2 -12.044 -82.059   \n",
              "3                 Early_Visual                         2 -16.607 -84.793   \n",
              "4                 Early_Visual                         2 -29.556 -86.009   \n",
              "5         Dorsal_Stream_Visual                         3 -24.456 -74.776   \n",
              "...                        ...                       ...     ...     ...   \n",
              "422                Subcortical                        24  10.038 -15.978   \n",
              "423                Subcortical                        24   3.738 -20.690   \n",
              "424                Subcortical                        24   2.396  -7.792   \n",
              "425                Subcortical                        24   1.183   6.383   \n",
              "426                Subcortical                        24  15.358  -0.234   \n",
              "\n",
              "               Z  ColeAnticevic_functional_network  \\\n",
              "HCPex_ID                                             \n",
              "1          1.759                                 1   \n",
              "2          4.029                                 2   \n",
              "3          7.259                                 2   \n",
              "4         -1.542                                 2   \n",
              "5         38.047                                 2   \n",
              "...          ...                               ...   \n",
              "422      -13.499                                14   \n",
              "423      -16.786                                14   \n",
              "424      -14.783                                14   \n",
              "425       -3.046                                14   \n",
              "426      -10.039                                14   \n",
              "\n",
              "         ColeAnticevic_functional_network_label  \n",
              "HCPex_ID                                         \n",
              "1                                       Visual1  \n",
              "2                                       Visual2  \n",
              "3                                       Visual2  \n",
              "4                                       Visual2  \n",
              "5                                       Visual2  \n",
              "...                                         ...  \n",
              "422                                 Subcortical  \n",
              "423                                 Subcortical  \n",
              "424                                 Subcortical  \n",
              "425                                 Subcortical  \n",
              "426                                 Subcortical  \n",
              "\n",
              "[426 rows x 10 columns]"
            ],
            "text/html": [
              "<div>\n",
              "<style scoped>\n",
              "    .dataframe tbody tr th:only-of-type {\n",
              "        vertical-align: middle;\n",
              "    }\n",
              "\n",
              "    .dataframe tbody tr th {\n",
              "        vertical-align: top;\n",
              "    }\n",
              "\n",
              "    .dataframe thead th {\n",
              "        text-align: right;\n",
              "    }\n",
              "</style>\n",
              "<table border=\"1\" class=\"dataframe\">\n",
              "  <thead>\n",
              "    <tr style=\"text-align: right;\">\n",
              "      <th></th>\n",
              "      <th>NEW_ID</th>\n",
              "      <th>Label</th>\n",
              "      <th>Short_label</th>\n",
              "      <th>Cortical Division</th>\n",
              "      <th>Cortical_Division_Number</th>\n",
              "      <th>X</th>\n",
              "      <th>Y</th>\n",
              "      <th>Z</th>\n",
              "      <th>ColeAnticevic_functional_network</th>\n",
              "      <th>ColeAnticevic_functional_network_label</th>\n",
              "    </tr>\n",
              "    <tr>\n",
              "      <th>HCPex_ID</th>\n",
              "      <th></th>\n",
              "      <th></th>\n",
              "      <th></th>\n",
              "      <th></th>\n",
              "      <th></th>\n",
              "      <th></th>\n",
              "      <th></th>\n",
              "      <th></th>\n",
              "      <th></th>\n",
              "      <th></th>\n",
              "    </tr>\n",
              "  </thead>\n",
              "  <tbody>\n",
              "    <tr>\n",
              "      <th>1</th>\n",
              "      <td>1</td>\n",
              "      <td>Primary_Visual_Cortex_L</td>\n",
              "      <td>L_V1</td>\n",
              "      <td>Primary_Visual</td>\n",
              "      <td>1</td>\n",
              "      <td>-10.078</td>\n",
              "      <td>-84.159</td>\n",
              "      <td>1.759</td>\n",
              "      <td>1</td>\n",
              "      <td>Visual1</td>\n",
              "    </tr>\n",
              "    <tr>\n",
              "      <th>2</th>\n",
              "      <td>3</td>\n",
              "      <td>Second_Visual_Area_L</td>\n",
              "      <td>L_V2</td>\n",
              "      <td>Early_Visual</td>\n",
              "      <td>2</td>\n",
              "      <td>-12.044</td>\n",
              "      <td>-82.059</td>\n",
              "      <td>4.029</td>\n",
              "      <td>2</td>\n",
              "      <td>Visual2</td>\n",
              "    </tr>\n",
              "    <tr>\n",
              "      <th>3</th>\n",
              "      <td>5</td>\n",
              "      <td>Third_Visual_Area_L</td>\n",
              "      <td>L_V3</td>\n",
              "      <td>Early_Visual</td>\n",
              "      <td>2</td>\n",
              "      <td>-16.607</td>\n",
              "      <td>-84.793</td>\n",
              "      <td>7.259</td>\n",
              "      <td>2</td>\n",
              "      <td>Visual2</td>\n",
              "    </tr>\n",
              "    <tr>\n",
              "      <th>4</th>\n",
              "      <td>7</td>\n",
              "      <td>Fourth_Visual_Area_L</td>\n",
              "      <td>L_V4</td>\n",
              "      <td>Early_Visual</td>\n",
              "      <td>2</td>\n",
              "      <td>-29.556</td>\n",
              "      <td>-86.009</td>\n",
              "      <td>-1.542</td>\n",
              "      <td>2</td>\n",
              "      <td>Visual2</td>\n",
              "    </tr>\n",
              "    <tr>\n",
              "      <th>5</th>\n",
              "      <td>9</td>\n",
              "      <td>IntraParietal_Sulcus_Area_1_L</td>\n",
              "      <td>L_IPS1</td>\n",
              "      <td>Dorsal_Stream_Visual</td>\n",
              "      <td>3</td>\n",
              "      <td>-24.456</td>\n",
              "      <td>-74.776</td>\n",
              "      <td>38.047</td>\n",
              "      <td>2</td>\n",
              "      <td>Visual2</td>\n",
              "    </tr>\n",
              "    <tr>\n",
              "      <th>...</th>\n",
              "      <td>...</td>\n",
              "      <td>...</td>\n",
              "      <td>...</td>\n",
              "      <td>...</td>\n",
              "      <td>...</td>\n",
              "      <td>...</td>\n",
              "      <td>...</td>\n",
              "      <td>...</td>\n",
              "      <td>...</td>\n",
              "      <td>...</td>\n",
              "    </tr>\n",
              "    <tr>\n",
              "      <th>422</th>\n",
              "      <td>418</td>\n",
              "      <td>Substantia_nigra_pars_reticulata_R</td>\n",
              "      <td>R_SNpr</td>\n",
              "      <td>Subcortical</td>\n",
              "      <td>24</td>\n",
              "      <td>10.038</td>\n",
              "      <td>-15.978</td>\n",
              "      <td>-13.499</td>\n",
              "      <td>14</td>\n",
              "      <td>Subcortical</td>\n",
              "    </tr>\n",
              "    <tr>\n",
              "      <th>423</th>\n",
              "      <td>420</td>\n",
              "      <td>Ventral_tegmenta_area_R</td>\n",
              "      <td>R_VTA</td>\n",
              "      <td>Subcortical</td>\n",
              "      <td>24</td>\n",
              "      <td>3.738</td>\n",
              "      <td>-20.690</td>\n",
              "      <td>-16.786</td>\n",
              "      <td>14</td>\n",
              "      <td>Subcortical</td>\n",
              "    </tr>\n",
              "    <tr>\n",
              "      <th>424</th>\n",
              "      <td>422</td>\n",
              "      <td>Mammillary_bodies_R</td>\n",
              "      <td>R_MB</td>\n",
              "      <td>Subcortical</td>\n",
              "      <td>24</td>\n",
              "      <td>2.396</td>\n",
              "      <td>-7.792</td>\n",
              "      <td>-14.783</td>\n",
              "      <td>14</td>\n",
              "      <td>Subcortical</td>\n",
              "    </tr>\n",
              "    <tr>\n",
              "      <th>425</th>\n",
              "      <td>424</td>\n",
              "      <td>Septal_nucleus_R</td>\n",
              "      <td>R_Septum</td>\n",
              "      <td>Subcortical</td>\n",
              "      <td>24</td>\n",
              "      <td>1.183</td>\n",
              "      <td>6.383</td>\n",
              "      <td>-3.046</td>\n",
              "      <td>14</td>\n",
              "      <td>Subcortical</td>\n",
              "    </tr>\n",
              "    <tr>\n",
              "      <th>426</th>\n",
              "      <td>426</td>\n",
              "      <td>Nuclei_basal_R</td>\n",
              "      <td>R_Nb</td>\n",
              "      <td>Subcortical</td>\n",
              "      <td>24</td>\n",
              "      <td>15.358</td>\n",
              "      <td>-0.234</td>\n",
              "      <td>-10.039</td>\n",
              "      <td>14</td>\n",
              "      <td>Subcortical</td>\n",
              "    </tr>\n",
              "  </tbody>\n",
              "</table>\n",
              "<p>426 rows × 10 columns</p>\n",
              "</div>"
            ]
          },
          "execution_count": 3,
          "metadata": {},
          "output_type": "execute_result"
        }
      ],
      "execution_count": null
    },
    {
      "metadata": {
        "id": "154ae834832624e8"
      },
      "cell_type": "markdown",
      "source": [
        "## Рукописный оверсэмплинг входных данных:"
      ],
      "id": "154ae834832624e8"
    },
    {
      "metadata": {
        "ExecuteTime": {
          "end_time": "2024-10-12T22:25:01.402821Z",
          "start_time": "2024-10-12T22:25:01.397942Z"
        },
        "id": "9f2a8e6aaec98251"
      },
      "cell_type": "code",
      "source": [
        "from sklearn.utils import resample\n",
        "import random\n",
        "\n",
        "def random_sampler(X, y, sampling_strategy=1,  seed=42):\n",
        "    random.seed(seed)\n",
        "\n",
        "    X_majority = X[(y==0).flatten()]\n",
        "    X_minority = X[(y==1).flatten()]\n",
        "\n",
        "    X_minority_upsampled = resample(X_minority,\n",
        "                                     replace=True,\n",
        "                                     n_samples=int(len(X_majority) * sampling_strategy - len(X_minority)),\n",
        "                                     random_state=42)\n",
        "\n",
        "\n",
        "    X_res = np.concatenate([X_majority, X_minority, X_minority_upsampled])\n",
        "    y_res = np.concatenate([[0]*len(X_majority), [1]*(len(X_minority_upsampled) + len(X_minority))]).reshape(-1, 1)\n",
        "    return X_res, y_res"
      ],
      "id": "9f2a8e6aaec98251",
      "outputs": [],
      "execution_count": null
    },
    {
      "cell_type": "markdown",
      "id": "e81199dc",
      "metadata": {
        "id": "e81199dc"
      },
      "source": [
        "# Начало обучения"
      ]
    },
    {
      "cell_type": "code",
      "id": "495d88e1",
      "metadata": {
        "ExecuteTime": {
          "end_time": "2024-10-12T22:25:10.767879Z",
          "start_time": "2024-10-12T22:25:01.405010Z"
        },
        "id": "495d88e1",
        "outputId": "0da05d7a-ff4e-4ed2-b3f3-2b0f0e4f1154"
      },
      "source": [
        "bnu_series_path = './data/ts_cut/HCPex/bnu{}.npy'\n",
        "bnu_labels_path = './data/ts_cut/HCPex/bnu.csv'\n",
        "ihb_series_path = './data/ts_cut/HCPex/ihb.npy'\n",
        "ihb_labels_path = './data/ts_cut/HCPex/ihb.csv'\n",
        "\n",
        "X_bnu = np.concatenate([np.load(bnu_series_path.format(i)) for i in (1, 2)], axis=0)\n",
        "Y_bnu = pd.read_csv(bnu_labels_path).to_numpy()\n",
        "X_ihb = np.load(ihb_series_path)\n",
        "Y_ihb = pd.read_csv(ihb_labels_path)\n",
        "\n",
        "# Увеличиваем количество миноритарного класса:\n",
        "sampling_strategy = 0.75\n",
        "X_bnu, Y_bnu = random_sampler(X_bnu, Y_bnu, sampling_strategy=sampling_strategy)\n",
        "\n",
        "X_bnu = get_connectome(X_bnu)\n",
        "X_ihb = get_connectome(X_ihb)\n",
        "print(f'X_bhu: {X_bnu.shape}')\n",
        "print(f'X_ihb: {X_ihb.shape}')\n",
        "\n",
        "# Выделяю на тест только выборку из ihb\n",
        "x_ihb_train, x_validate, y_ihb_train, y_validate = train_test_split(X_ihb, Y_ihb,\n",
        "                                                           test_size=0.5, random_state=10, stratify=Y_ihb)\n",
        "\n",
        "x_train = np.concatenate([X_bnu, x_ihb_train, x_validate])\n",
        "y_train = np.concatenate([Y_bnu, y_ihb_train, y_validate])\n"
      ],
      "outputs": [
        {
          "name": "stdout",
          "output_type": "stream",
          "text": [
            "X_bhu: (166, 419, 419)\n",
            "X_ihb: (20, 419, 419)\n"
          ]
        }
      ],
      "execution_count": null
    },
    {
      "metadata": {
        "ExecuteTime": {
          "end_time": "2024-10-12T22:25:10.781069Z",
          "start_time": "2024-10-12T22:25:10.771320Z"
        },
        "id": "2ccfe1465373f690",
        "outputId": "b8303451-70e6-4d59-dae8-21ce64edba5a"
      },
      "cell_type": "code",
      "source": [
        "x_train.shape, y_train.shape"
      ],
      "id": "2ccfe1465373f690",
      "outputs": [
        {
          "data": {
            "text/plain": [
              "((186, 419, 419), (186, 1))"
            ]
          },
          "execution_count": 6,
          "metadata": {},
          "output_type": "execute_result"
        }
      ],
      "execution_count": null
    },
    {
      "cell_type": "code",
      "id": "9497f443",
      "metadata": {
        "ExecuteTime": {
          "end_time": "2024-10-12T22:25:11.392173Z",
          "start_time": "2024-10-12T22:25:10.782909Z"
        },
        "id": "9497f443",
        "outputId": "9a4dbd50-a661-487a-d52c-4d0d35419fd2"
      },
      "source": [
        "cat_boost = CLModels(pca=True, model=\"catboost\", is_ensemble=False)\n",
        "cat_boost.model.set_params(**{'l2_leaf_reg': 0.001, \"n_estimators\": 40, \"early_stopping_rounds\": 5})\n",
        "cat_boost.pca.set_params(**{'n_components': 10})\n",
        "\n",
        "acc = cat_boost.model_training(x_train, y_train.flatten())"
      ],
      "outputs": [
        {
          "name": "stdout",
          "output_type": "stream",
          "text": [
            "Preprocesses result shape: (186, 40)\n",
            "0:\tlearn: 0.6704864\ttotal: 73.1ms\tremaining: 2.85s\n",
            "1:\tlearn: 0.6471557\ttotal: 74.7ms\tremaining: 1.42s\n",
            "2:\tlearn: 0.6254643\ttotal: 76.6ms\tremaining: 944ms\n",
            "3:\tlearn: 0.6040238\ttotal: 77.9ms\tremaining: 701ms\n",
            "4:\tlearn: 0.5850882\ttotal: 84.1ms\tremaining: 588ms\n",
            "5:\tlearn: 0.5662706\ttotal: 86ms\tremaining: 487ms\n",
            "6:\tlearn: 0.5478272\ttotal: 86.8ms\tremaining: 409ms\n",
            "7:\tlearn: 0.5290870\ttotal: 87.6ms\tremaining: 350ms\n",
            "8:\tlearn: 0.5131130\ttotal: 91.9ms\tremaining: 317ms\n",
            "9:\tlearn: 0.4976376\ttotal: 95.2ms\tremaining: 286ms\n",
            "10:\tlearn: 0.4832730\ttotal: 97ms\tremaining: 256ms\n",
            "11:\tlearn: 0.4698738\ttotal: 98.8ms\tremaining: 231ms\n",
            "12:\tlearn: 0.4570436\ttotal: 99.8ms\tremaining: 207ms\n",
            "13:\tlearn: 0.4450321\ttotal: 100ms\tremaining: 187ms\n",
            "14:\tlearn: 0.4323920\ttotal: 101ms\tremaining: 168ms\n",
            "15:\tlearn: 0.4209369\ttotal: 102ms\tremaining: 153ms\n",
            "16:\tlearn: 0.4100084\ttotal: 103ms\tremaining: 140ms\n",
            "17:\tlearn: 0.3982143\ttotal: 104ms\tremaining: 127ms\n",
            "18:\tlearn: 0.3885854\ttotal: 105ms\tremaining: 116ms\n",
            "19:\tlearn: 0.3772068\ttotal: 106ms\tremaining: 106ms\n",
            "20:\tlearn: 0.3690576\ttotal: 107ms\tremaining: 96.7ms\n",
            "21:\tlearn: 0.3594604\ttotal: 108ms\tremaining: 88.4ms\n",
            "22:\tlearn: 0.3507689\ttotal: 109ms\tremaining: 80.6ms\n",
            "23:\tlearn: 0.3425005\ttotal: 110ms\tremaining: 73.1ms\n",
            "24:\tlearn: 0.3339663\ttotal: 110ms\tremaining: 66.2ms\n",
            "25:\tlearn: 0.3261994\ttotal: 111ms\tremaining: 59.8ms\n",
            "26:\tlearn: 0.3184383\ttotal: 112ms\tremaining: 53.7ms\n",
            "27:\tlearn: 0.3114189\ttotal: 112ms\tremaining: 48.2ms\n",
            "28:\tlearn: 0.3050878\ttotal: 113ms\tremaining: 42.9ms\n",
            "29:\tlearn: 0.2981501\ttotal: 114ms\tremaining: 38ms\n",
            "30:\tlearn: 0.2922964\ttotal: 114ms\tremaining: 33.2ms\n",
            "31:\tlearn: 0.2853736\ttotal: 115ms\tremaining: 28.8ms\n",
            "32:\tlearn: 0.2788749\ttotal: 116ms\tremaining: 24.6ms\n",
            "33:\tlearn: 0.2725071\ttotal: 117ms\tremaining: 20.6ms\n",
            "34:\tlearn: 0.2667976\ttotal: 118ms\tremaining: 16.8ms\n",
            "35:\tlearn: 0.2607044\ttotal: 118ms\tremaining: 13.1ms\n",
            "36:\tlearn: 0.2553411\ttotal: 119ms\tremaining: 9.63ms\n",
            "37:\tlearn: 0.2501695\ttotal: 120ms\tremaining: 6.29ms\n",
            "38:\tlearn: 0.2444827\ttotal: 120ms\tremaining: 3.08ms\n",
            "39:\tlearn: 0.2392376\ttotal: 131ms\tremaining: 0us\n",
            "Accuracy on train: 0.968\n"
          ]
        }
      ],
      "execution_count": null
    },
    {
      "cell_type": "code",
      "id": "a13b5be4",
      "metadata": {
        "ExecuteTime": {
          "end_time": "2024-10-12T22:25:11.487944Z",
          "start_time": "2024-10-12T22:25:11.399823Z"
        },
        "id": "a13b5be4",
        "outputId": "35e0552b-3dbe-4d15-89b5-01347143c9db"
      },
      "source": [
        "conf_mat, acc, f1 = cat_boost.model_testing(X_ihb, Y_ihb)\n",
        "conf_mat"
      ],
      "outputs": [
        {
          "name": "stdout",
          "output_type": "stream",
          "text": [
            "Preprocesses result shape: (20, 40)\n",
            "Accuracy on test: 0.85\n",
            "F1 score on test: 0.84211\n"
          ]
        },
        {
          "data": {
            "text/plain": [
              "array([[9, 1],\n",
              "       [2, 8]])"
            ]
          },
          "execution_count": 8,
          "metadata": {},
          "output_type": "execute_result"
        }
      ],
      "execution_count": null
    },
    {
      "metadata": {
        "id": "5738de0963611bf8"
      },
      "cell_type": "markdown",
      "source": [
        "### Код для нахождения важных фичей:"
      ],
      "id": "5738de0963611bf8"
    },
    {
      "metadata": {
        "ExecuteTime": {
          "end_time": "2024-10-12T22:25:15.147549Z",
          "start_time": "2024-10-12T22:25:15.142089Z"
        },
        "id": "dd6bb22860dab14b"
      },
      "cell_type": "code",
      "source": [
        "# importances = cat_boost.model.get_feature_importance(type='PredictionValuesChange')\n",
        "# feature_importances = pd.Series(importances, index=range(logreg.processes_x.shape[-1])).sort_values()\n",
        "# feature_025 = feature_importances[feature_importances > 0.25]\n",
        "# plt.figure(figsize=(10, 15))\n",
        "# plt.barh(feature_025.index, feature_025.values, height=3, color='yellow', linewidth=5)\n",
        "# feature_025 = feature_importances[feature_importances > 0.3]\n",
        "# plt.title('CatBoost Feature Importance')\n",
        "# plt.xlabel('Importance')\n",
        "# plt.ylabel('Features')\n",
        "# plt.show()"
      ],
      "id": "dd6bb22860dab14b",
      "outputs": [],
      "execution_count": null
    },
    {
      "metadata": {
        "id": "1601c4c424ba425"
      },
      "cell_type": "markdown",
      "source": [
        "### Еще одна модель (иногда работает лучше)\n",
        "Это ансамбль из трех моделей: Кэтбуста, который хорошо определяет отрицательные классы, Логистической регрессии, которая хорошо определяет положительный класс, и Перцептрона, который делает ошибки вообще в других местах"
      ],
      "id": "1601c4c424ba425"
    },
    {
      "metadata": {
        "ExecuteTime": {
          "end_time": "2024-10-12T22:25:20.587438Z",
          "start_time": "2024-10-12T22:25:17.959725Z"
        },
        "id": "50bae30f4157e0ae",
        "outputId": "4fc5906b-3160-4b4d-a4ea-a3754989514f"
      },
      "cell_type": "code",
      "source": [
        "ensemble = CLModels(pca=True, model=\"catboost\", is_ensemble=True)\n",
        "ensemble.model.set_params(**{'l2_leaf_reg': 0.001, \"n_estimators\": 40, \"early_stopping_rounds\": 5})\n",
        "ensemble.pca.set_params(**{'n_components': 10})\n",
        "\n",
        "acc = ensemble.model_training(x_train, y_train.flatten())\n",
        "conf_mat, acc, f1 = ensemble.model_testing(X_ihb, Y_ihb)\n",
        "conf_mat"
      ],
      "id": "50bae30f4157e0ae",
      "outputs": [
        {
          "name": "stdout",
          "output_type": "stream",
          "text": [
            "Preprocesses result shape: (186, 40)\n",
            "0:\tlearn: 0.6696089\ttotal: 1.72ms\tremaining: 67ms\n",
            "1:\tlearn: 0.6467509\ttotal: 3.04ms\tremaining: 57.8ms\n",
            "2:\tlearn: 0.6251433\ttotal: 4.32ms\tremaining: 53.3ms\n",
            "3:\tlearn: 0.6053225\ttotal: 5.23ms\tremaining: 47ms\n",
            "4:\tlearn: 0.5856346\ttotal: 6.58ms\tremaining: 46.1ms\n",
            "5:\tlearn: 0.5672214\ttotal: 7.92ms\tremaining: 44.9ms\n",
            "6:\tlearn: 0.5501062\ttotal: 9.23ms\tremaining: 43.5ms\n",
            "7:\tlearn: 0.5314700\ttotal: 78.8ms\tremaining: 315ms\n",
            "8:\tlearn: 0.5173419\ttotal: 85.7ms\tremaining: 295ms\n",
            "9:\tlearn: 0.5022413\ttotal: 90.3ms\tremaining: 271ms\n",
            "10:\tlearn: 0.4867570\ttotal: 91.7ms\tremaining: 242ms\n",
            "11:\tlearn: 0.4728938\ttotal: 93ms\tremaining: 217ms\n",
            "12:\tlearn: 0.4602388\ttotal: 126ms\tremaining: 261ms\n",
            "13:\tlearn: 0.4485570\ttotal: 129ms\tremaining: 239ms\n",
            "14:\tlearn: 0.4369593\ttotal: 133ms\tremaining: 221ms\n",
            "15:\tlearn: 0.4252493\ttotal: 145ms\tremaining: 217ms\n",
            "16:\tlearn: 0.4146526\ttotal: 146ms\tremaining: 197ms\n",
            "17:\tlearn: 0.4047742\ttotal: 147ms\tremaining: 180ms\n",
            "18:\tlearn: 0.3944579\ttotal: 148ms\tremaining: 164ms\n",
            "19:\tlearn: 0.3854196\ttotal: 150ms\tremaining: 150ms\n",
            "20:\tlearn: 0.3752280\ttotal: 151ms\tremaining: 137ms\n",
            "21:\tlearn: 0.3655758\ttotal: 153ms\tremaining: 125ms\n",
            "22:\tlearn: 0.3575415\ttotal: 154ms\tremaining: 114ms\n",
            "23:\tlearn: 0.3479233\ttotal: 155ms\tremaining: 103ms\n",
            "24:\tlearn: 0.3394087\ttotal: 169ms\tremaining: 101ms\n",
            "25:\tlearn: 0.3310226\ttotal: 172ms\tremaining: 92.6ms\n",
            "26:\tlearn: 0.3221831\ttotal: 175ms\tremaining: 84.3ms\n",
            "27:\tlearn: 0.3141975\ttotal: 177ms\tremaining: 76ms\n",
            "28:\tlearn: 0.3052537\ttotal: 178ms\tremaining: 67.7ms\n",
            "29:\tlearn: 0.2972983\ttotal: 194ms\tremaining: 64.6ms\n",
            "30:\tlearn: 0.2907084\ttotal: 197ms\tremaining: 57.2ms\n",
            "31:\tlearn: 0.2848511\ttotal: 200ms\tremaining: 50ms\n",
            "32:\tlearn: 0.2781934\ttotal: 201ms\tremaining: 42.7ms\n",
            "33:\tlearn: 0.2715584\ttotal: 202ms\tremaining: 35.6ms\n",
            "34:\tlearn: 0.2657254\ttotal: 202ms\tremaining: 28.9ms\n",
            "35:\tlearn: 0.2586373\ttotal: 203ms\tremaining: 22.6ms\n",
            "36:\tlearn: 0.2532542\ttotal: 204ms\tremaining: 16.6ms\n",
            "37:\tlearn: 0.2472081\ttotal: 206ms\tremaining: 10.8ms\n",
            "38:\tlearn: 0.2419552\ttotal: 207ms\tremaining: 5.31ms\n",
            "39:\tlearn: 0.2371739\ttotal: 210ms\tremaining: 0us\n",
            "Accuracy on train model1: 0.978\n",
            "Accuracy on train model2: 0.785\n",
            "Accuracy on train model3: 1.0\n",
            "Preprocesses result shape: (20, 40)\n",
            "Accuracy on test: 0.95\n",
            "F1 score on test: 0.95238\n"
          ]
        },
        {
          "data": {
            "text/plain": [
              "array([[ 9,  1],\n",
              "       [ 0, 10]])"
            ]
          },
          "execution_count": 10,
          "metadata": {},
          "output_type": "execute_result"
        }
      ],
      "execution_count": null
    },
    {
      "cell_type": "code",
      "id": "d04cacf4",
      "metadata": {
        "ExecuteTime": {
          "end_time": "2024-10-12T22:27:09.758500Z",
          "start_time": "2024-10-12T22:27:09.741597Z"
        },
        "id": "d04cacf4"
      },
      "source": [
        "import pickle\n",
        "\n",
        "# save model and weights\n",
        "\n",
        "pkl_filename = \"./model.pkl\"\n",
        "with open(pkl_filename, 'wb') as file:\n",
        "    pickle.dump(cat_boost, file)"
      ],
      "outputs": [],
      "execution_count": null
    },
    {
      "cell_type": "code",
      "id": "df221885",
      "metadata": {
        "ExecuteTime": {
          "end_time": "2024-10-12T22:27:11.474194Z",
          "start_time": "2024-10-12T22:27:11.241939Z"
        },
        "id": "df221885"
      },
      "source": [
        "# create local environment same as Yandex Contest\n",
        "import os\n",
        "import shutil\n",
        "\n",
        "if not os.path.exists('./data/ts_cut/HCPex/'):\n",
        "    os.makedirs('./data/ts_cut/HCPex/')\n",
        "\n",
        "np.save('./data/ts_cut/HCPex/predict.npy', np.concatenate([np.load(bnu_series_path.format(i)) for i in (1, 2)], axis=0))\n"
      ],
      "outputs": [],
      "execution_count": null
    },
    {
      "cell_type": "code",
      "id": "211e310b",
      "metadata": {
        "ExecuteTime": {
          "end_time": "2024-10-12T22:27:14.648562Z",
          "start_time": "2024-10-12T22:27:12.071935Z"
        },
        "id": "211e310b",
        "outputId": "1f656640-a662-4dc5-db79-4d885e7f707e"
      },
      "source": [
        "# create script, which loads model, does all preprocessing and outputs solution.csv\n",
        "\n",
        "import numpy as np\n",
        "import pandas as pd\n",
        "import pickle\n",
        "\n",
        "from scripts.data_utils import get_connectome\n",
        "from scripts.classification_models import CLModels\n",
        "\n",
        "X = np.load('./data/ts_cut/HCPex/predict.npy')\n",
        "print(X.shape)\n",
        "X = get_connectome(X)\n",
        "\n",
        "with open('model.pkl', 'rb') as file:\n",
        "    model = pickle.load(file)\n",
        "\n",
        "y_pred = model.model_predict(X)\n",
        "print(y_pred)\n",
        "\n",
        "solution = pd.DataFrame(data=y_pred, columns=['prediction'])\n",
        "solution.to_csv('./solution.csv', index=False)"
      ],
      "outputs": [
        {
          "name": "stdout",
          "output_type": "stream",
          "text": [
            "(142, 240, 419)\n",
            "Preprocesses result shape: (142, 40)\n",
            "[0. 0. 0. 0. 0. 0. 0. 0. 1. 0. 0. 0. 0. 0. 0. 0. 0. 0. 0. 0. 1. 1. 0. 0.\n",
            " 0. 0. 0. 0. 1. 0. 0. 0. 0. 0. 0. 0. 0. 1. 0. 1. 0. 1. 0. 1. 1. 1. 0. 1.\n",
            " 0. 0. 0. 1. 0. 0. 1. 0. 0. 0. 0. 0. 0. 1. 1. 1. 1. 0. 1. 0. 0. 0. 0. 0.\n",
            " 0. 0. 0. 1. 0. 1. 0. 1. 1. 0. 1. 1. 0. 1. 0. 0. 0. 1. 0. 0. 0. 1. 1. 0.\n",
            " 0. 1. 1. 0. 1. 1. 0. 1. 0. 1. 0. 0. 0. 0. 0. 0. 0. 1. 1. 1. 1. 1. 0. 0.\n",
            " 0. 0. 1. 0. 0. 1. 1. 1. 0. 0. 1. 0. 0. 1. 1. 0. 0. 1. 0. 0. 0. 0.]\n"
          ]
        }
      ],
      "execution_count": null
    },
    {
      "cell_type": "code",
      "id": "bf7aa8c9",
      "metadata": {
        "ExecuteTime": {
          "end_time": "2024-10-12T22:27:16.342531Z",
          "start_time": "2024-10-12T22:27:16.329400Z"
        },
        "id": "bf7aa8c9"
      },
      "source": [
        "# build the .zip to submit\n",
        "import zipfile\n",
        "import datetime\n",
        "\n",
        "# save source from previous cell into file\n",
        "# will produce the correct result only in case of running previous cell just before\n",
        "with open('run.py', 'w') as f_run:\n",
        "    f_run.write(_ih[-2])\n",
        "\n",
        "with open('run.sh', 'w') as f_run_sh:\n",
        "    f_run_sh.write('export PATH=/usr/conda/bin:$PATH\\npython run.py')\n",
        "\n",
        "with open('train.py', 'w') as f_run:\n",
        "    f_run.write('print(\"\\\\n\".join(map(str, range(100))))')\n",
        "\n",
        "with open('train.sh', 'w') as f_run_sh:\n",
        "    f_run_sh.write('export PATH=/usr/conda/bin:$PATH\\npython train.py')\n",
        "\n",
        "with open('Makefile', 'w') as f_makefile:\n",
        "    f_makefile.write('''all: build\n",
        "\n",
        "build:\n",
        "\t@echo 'starting....'\n",
        "\tbash train.sh\n",
        "run:\n",
        "\tbash run.sh\n",
        "train:\n",
        "\tbash train.sh\n",
        "''')\n",
        "\n",
        "submission_zip = zipfile.ZipFile(f\"submission-{datetime.datetime.now()}.zip\".replace(':', '-').replace(' ', '-'), \"w\")\n",
        "submission_zip.write('./Makefile', compress_type=zipfile.ZIP_DEFLATED)\n",
        "submission_zip.write('run.py', compress_type=zipfile.ZIP_DEFLATED)\n",
        "submission_zip.write('run.sh', compress_type=zipfile.ZIP_DEFLATED)\n",
        "submission_zip.write('train.py', compress_type=zipfile.ZIP_DEFLATED)\n",
        "submission_zip.write('train.sh', compress_type=zipfile.ZIP_DEFLATED)\n",
        "submission_zip.write('model.pkl', compress_type=zipfile.ZIP_DEFLATED)\n",
        "submission_zip.write('scripts', compress_type=zipfile.ZIP_DEFLATED)\n",
        "submission_zip.write('scripts/__init__.py', compress_type=zipfile.ZIP_DEFLATED)\n",
        "submission_zip.write('scripts/classification_models.py', compress_type=zipfile.ZIP_DEFLATED)\n",
        "submission_zip.write('scripts/data_utils.py', compress_type=zipfile.ZIP_DEFLATED)\n",
        "\n",
        "submission_zip.close()\n"
      ],
      "outputs": [],
      "execution_count": null
    },
    {
      "metadata": {
        "id": "c53a8282d01622c"
      },
      "cell_type": "code",
      "outputs": [],
      "execution_count": null,
      "source": [],
      "id": "c53a8282d01622c"
    }
  ],
  "metadata": {
    "kernelspec": {
      "display_name": "Python 3",
      "language": "python",
      "name": "python3"
    },
    "language_info": {
      "codemirror_mode": {
        "name": "ipython",
        "version": 3
      },
      "file_extension": ".py",
      "mimetype": "text/x-python",
      "name": "python",
      "nbconvert_exporter": "python",
      "pygments_lexer": "ipython3",
      "version": "3.11.5"
    },
    "colab": {
      "provenance": []
    }
  },
  "nbformat": 4,
  "nbformat_minor": 5
}